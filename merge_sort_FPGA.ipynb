{
 "cells": [
  {
   "cell_type": "markdown",
   "id": "8ae8f469",
   "metadata": {},
   "source": [
    "# FPGA acceleration of Merge Sort Algorithm\n",
    "\n",
    "\n",
    "\n",
    "Author: Fabrizio Maria Aymone\n",
    "\n",
    "Contact: fabrizio.aymone@gmail.com\n",
    "\n",
    "*Apache License Version 2.0, January 2004 *;* http://www.apache.org/licenses/*"
   ]
  },
  {
   "cell_type": "code",
   "execution_count": 1,
   "id": "26bdcc4d",
   "metadata": {},
   "outputs": [],
   "source": [
    "import time\n",
    "import numpy as np\n",
    "np.set_printoptions(threshold=np.inf)\n",
    "\n",
    "# this is the sequence needed to be sorted\n",
    "unsorted_sequence = np.random.randint(255, size=1024)\n",
    "# this is the sequence correctedly sorted\n",
    "sorted_sequence   = np.sort(unsorted_sequence)"
   ]
  },
  {
   "cell_type": "markdown",
   "id": "960ef4a2",
   "metadata": {},
   "source": [
    "## SW performance"
   ]
  },
  {
   "cell_type": "markdown",
   "id": "b11a9c82",
   "metadata": {},
   "source": [
    "The recursive version of the algorithm does not support sequences of 1024 elements, as it goes into overflow. Therefore, the iterative version is considered."
   ]
  },
  {
   "cell_type": "code",
   "execution_count": 2,
   "id": "b98dfe41",
   "metadata": {},
   "outputs": [],
   "source": [
    "def merge_sort(arr):\n",
    "    current_size = 1\n",
    "    len_arr = len(arr)\n",
    "\n",
    "    while current_size < len_arr:\n",
    "        left_start = 0\n",
    "        while left_start < len_arr:\n",
    "            mid = min(left_start + current_size - 1, len_arr - 1)\n",
    "            right_end = min(left_start + 2 * current_size - 1, len_arr - 1)\n",
    "\n",
    "            merge_subarrays(arr, left_start, mid, right_end)\n",
    "            left_start += 2 * current_size\n",
    "\n",
    "        current_size *= 2\n",
    "    return arr\n",
    "\n",
    "def merge_subarrays(arr, start, mid, end):\n",
    "    len_left = mid - start + 1\n",
    "    len_right = end - mid\n",
    "    left = [0] * len_left\n",
    "    right = [0] * len_right\n",
    "\n",
    "    for i in range(len_left):\n",
    "        left[i] = arr[start + i]\n",
    "    for i in range(len_right):\n",
    "        right[i] = arr[mid + 1 + i]\n",
    "\n",
    "    i, j, k = 0, 0, start\n",
    "    while i < len_left and j < len_right:\n",
    "        if left[i] <= right[j]:\n",
    "            arr[k] = left[i]\n",
    "            i += 1\n",
    "        else:\n",
    "            arr[k] = right[j]\n",
    "            j += 1\n",
    "        k += 1\n",
    "\n",
    "    while i < len_left:\n",
    "        arr[k] = left[i]\n",
    "        i += 1\n",
    "        k += 1\n",
    "\n",
    "    while j < len_right:\n",
    "        arr[k] = right[j]\n",
    "        j += 1\n",
    "        k += 1\n",
    "\n"
   ]
  },
  {
   "cell_type": "code",
   "execution_count": 46,
   "id": "40e9d711",
   "metadata": {},
   "outputs": [
    {
     "name": "stdout",
     "output_type": "stream",
     "text": [
      "Software Merge Sort execution time 0.09255146980285645\n"
     ]
    }
   ],
   "source": [
    "start_time = time.time()\n",
    "sw_sorted = merge_sort(unsorted_sequence.astype(\"uint8\"))\n",
    "stop_time = time.time()\n",
    "sw_exec_time = stop_time - start_time\n",
    "assert np.array_equal(sorted_sequence, sw_sorted), \"SW sorted array has not been sorted correctly\"\n",
    "print('Software Merge Sort execution time', sw_exec_time)"
   ]
  },
  {
   "cell_type": "markdown",
   "id": "ab362280",
   "metadata": {},
   "source": [
    "## FPGA performance\n",
    "\n",
    "3 different architectures (i.e. tree, row and hybrid) have been designed and benchmarked."
   ]
  },
  {
   "cell_type": "markdown",
   "id": "20c45da5",
   "metadata": {},
   "source": [
    "## tree architecture"
   ]
  },
  {
   "cell_type": "code",
   "execution_count": 24,
   "id": "363e5241",
   "metadata": {},
   "outputs": [],
   "source": [
    "from pynq import allocate\n",
    "from pynq import Overlay\n",
    "\n",
    "overlay = Overlay('/home/xilinx/pynq/overlays/merge_sorter/5.bit')"
   ]
  },
  {
   "cell_type": "code",
   "execution_count": 25,
   "id": "3d2e02ba",
   "metadata": {},
   "outputs": [],
   "source": [
    "dma = overlay.axi_dma_0"
   ]
  },
  {
   "cell_type": "code",
   "execution_count": 26,
   "id": "ceb7fadf",
   "metadata": {},
   "outputs": [],
   "source": [
    "input_buffer = allocate(shape=(1024,), dtype=np.uint32)\n",
    "output_buffer = allocate(shape=(1024,), dtype=np.uint32)"
   ]
  },
  {
   "cell_type": "code",
   "execution_count": 27,
   "id": "7ffcd065",
   "metadata": {},
   "outputs": [],
   "source": [
    "for i in range(1024):\n",
    "    input_buffer[i] = unsorted_sequence[i]"
   ]
  },
  {
   "cell_type": "code",
   "execution_count": 28,
   "id": "33c305e2",
   "metadata": {},
   "outputs": [],
   "source": [
    "start_time = time.time()\n",
    "dma.sendchannel.transfer(input_buffer)\n",
    "dma.recvchannel.transfer(output_buffer)\n",
    "dma.sendchannel.wait()\n",
    "dma.recvchannel.wait()\n",
    "stop_time = time.time()\n",
    "hw_exec_time = stop_time-start_time\n",
    "hw_sorted=output_buffer\n",
    "assert np.array_equal(sorted_sequence, hw_sorted), \"HW sorted array has not been sorted correctly\""
   ]
  },
  {
   "cell_type": "code",
   "execution_count": 29,
   "id": "4af988ea",
   "metadata": {
    "scrolled": true
   },
   "outputs": [
    {
     "name": "stdout",
     "output_type": "stream",
     "text": [
      "Software Merge Sort execution time 0.1004939079284668\n",
      "Hardware Merge Sort execution time:  0.006251335144042969\n",
      "Hardware acceleration factor:  16.075591151792526\n"
     ]
    }
   ],
   "source": [
    "print('Software Merge Sort execution time', sw_exec_time)\n",
    "print('Hardware Merge Sort execution time: ',hw_exec_time)\n",
    "print('Hardware acceleration factor: ',sw_exec_time / hw_exec_time)"
   ]
  },
  {
   "cell_type": "markdown",
   "id": "1142e461",
   "metadata": {},
   "source": [
    "## row architecture"
   ]
  },
  {
   "cell_type": "code",
   "execution_count": 31,
   "id": "9b81f3ee",
   "metadata": {},
   "outputs": [],
   "source": [
    "from pynq import allocate\n",
    "from pynq import Overlay\n",
    "\n",
    "overlay = Overlay('/home/xilinx/pynq/overlays/merge_sorter/6.bit')"
   ]
  },
  {
   "cell_type": "code",
   "execution_count": 32,
   "id": "1c173c2e",
   "metadata": {},
   "outputs": [],
   "source": [
    "dma = overlay.axi_dma_0"
   ]
  },
  {
   "cell_type": "code",
   "execution_count": 33,
   "id": "729349d0",
   "metadata": {},
   "outputs": [],
   "source": [
    "input_buffer = allocate(shape=(1024,), dtype=np.uint32)\n",
    "output_buffer = allocate(shape=(1024,), dtype=np.uint32)"
   ]
  },
  {
   "cell_type": "code",
   "execution_count": 34,
   "id": "4ca5e48b",
   "metadata": {},
   "outputs": [],
   "source": [
    "for i in range(1024):\n",
    "    input_buffer[i] = unsorted_sequence[i]"
   ]
  },
  {
   "cell_type": "code",
   "execution_count": 35,
   "id": "c6ff3776",
   "metadata": {},
   "outputs": [],
   "source": [
    "start_time = time.time()\n",
    "dma.sendchannel.transfer(input_buffer)\n",
    "dma.recvchannel.transfer(output_buffer)\n",
    "dma.sendchannel.wait()\n",
    "dma.recvchannel.wait()\n",
    "stop_time = time.time()\n",
    "hw_exec_time = stop_time-start_time\n",
    "hw_sorted=output_buffer\n",
    "assert np.array_equal(sorted_sequence, hw_sorted), \"HW sorted array has not been sorted correctly\""
   ]
  },
  {
   "cell_type": "code",
   "execution_count": 36,
   "id": "8d6c32e7",
   "metadata": {
    "scrolled": true
   },
   "outputs": [
    {
     "name": "stdout",
     "output_type": "stream",
     "text": [
      "Software Merge Sort execution time 0.1004939079284668\n",
      "Hardware Merge Sort execution time:  0.006253480911254883\n",
      "Hardware acceleration factor:  16.07007510770521\n"
     ]
    }
   ],
   "source": [
    "print('Software Merge Sort execution time', sw_exec_time)\n",
    "print('Hardware Merge Sort execution time: ',hw_exec_time)\n",
    "print('Hardware acceleration factor: ',sw_exec_time / hw_exec_time)"
   ]
  },
  {
   "cell_type": "markdown",
   "id": "a6166b49",
   "metadata": {},
   "source": [
    "## hybrid architecture"
   ]
  },
  {
   "cell_type": "code",
   "execution_count": 18,
   "id": "ca6dbf3f",
   "metadata": {},
   "outputs": [],
   "source": [
    "from pynq import allocate\n",
    "from pynq import Overlay\n",
    "\n",
    "overlay = Overlay('/home/xilinx/pynq/overlays/merge_sorter/merge.bit')"
   ]
  },
  {
   "cell_type": "code",
   "execution_count": 19,
   "id": "0d0d9558",
   "metadata": {},
   "outputs": [],
   "source": [
    "dma = overlay.axi_dma_0"
   ]
  },
  {
   "cell_type": "code",
   "execution_count": 20,
   "id": "753809e7",
   "metadata": {},
   "outputs": [],
   "source": [
    "input_buffer = allocate(shape=(1024,), dtype=np.uint32)\n",
    "output_buffer = allocate(shape=(1024,), dtype=np.uint32)"
   ]
  },
  {
   "cell_type": "code",
   "execution_count": 21,
   "id": "8b807e63",
   "metadata": {},
   "outputs": [],
   "source": [
    "for i in range(1024):\n",
    "    input_buffer[i] = unsorted_sequence[i]"
   ]
  },
  {
   "cell_type": "code",
   "execution_count": 22,
   "id": "c7941468",
   "metadata": {},
   "outputs": [],
   "source": [
    "start_time = time.time()\n",
    "dma.sendchannel.transfer(input_buffer)\n",
    "dma.recvchannel.transfer(output_buffer)\n",
    "dma.sendchannel.wait()\n",
    "dma.recvchannel.wait()\n",
    "stop_time = time.time()\n",
    "hw_exec_time = stop_time-start_time\n",
    "hw_sorted=output_buffer\n",
    "assert np.array_equal(sorted_sequence, hw_sorted), \"HW sorted array has not been sorted correctly\""
   ]
  },
  {
   "cell_type": "code",
   "execution_count": 23,
   "id": "467395eb",
   "metadata": {
    "scrolled": true
   },
   "outputs": [
    {
     "name": "stdout",
     "output_type": "stream",
     "text": [
      "Software Merge Sort execution time 0.1004939079284668\n",
      "Hardware Merge Sort execution time:  0.003984212875366211\n",
      "Hardware acceleration factor:  25.223026748848064\n"
     ]
    }
   ],
   "source": [
    "print('Software Merge Sort execution time', sw_exec_time)\n",
    "print('Hardware Merge Sort execution time: ',hw_exec_time)\n",
    "print('Hardware acceleration factor: ',sw_exec_time / hw_exec_time)"
   ]
  }
 ],
 "metadata": {
  "kernelspec": {
   "display_name": "Python 3 (ipykernel)",
   "language": "python",
   "name": "python3"
  },
  "language_info": {
   "codemirror_mode": {
    "name": "ipython",
    "version": 3
   },
   "file_extension": ".py",
   "mimetype": "text/x-python",
   "name": "python",
   "nbconvert_exporter": "python",
   "pygments_lexer": "ipython3",
   "version": "3.10.4"
  }
 },
 "nbformat": 4,
 "nbformat_minor": 5
}
